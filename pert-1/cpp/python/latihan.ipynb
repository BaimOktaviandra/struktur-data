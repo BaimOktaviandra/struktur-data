{
 "cells": [
  {
   "cell_type": "code",
   "execution_count": null,
   "id": "b82cd098",
   "metadata": {},
   "outputs": [],
   "source": [
    "def tambah(a, b):\n",
    "  \"\"\"Mengembalikan hasil penjumlahan dua bilangan.\"\"\"\n",
    "  return a + b\n",
    "\n",
    "def kurang(a, b):\n",
    "  \"\"\"Mengembalikan hasil pengurangan bilangan kedua dari bilangan pertama.\"\"\"\n",
    "  return a - b\n",
    "\n",
    "def kali(a, b):\n",
    "  \"\"\"Mengembalikan hasil perkalian dua bilangan.\"\"\"\n",
    "  return a * b\n",
    "\n",
    "def bagi(a, b):\n",
    "  \"\"\"Mengembalikan hasil pembagian bilangan pertama oleh bilangan kedua.\n",
    "  Menangani kasus pembagian oleh nol.\"\"\"\n",
    "  if b == 0:\n",
    "    return \"Error: Pembagian oleh nol tidak diizinkan!\"\n",
    "  return a / b\n",
    "\n",
    "# Contoh penggunaan fungsi-fungsi\n",
    "angka1 = 10\n",
    "angka2 = 5\n",
    "\n",
    "print(f\"Penjumlahan {angka1} + {angka2} = {tambah(angka1, angka2)}\")\n",
    "print(f\"Pengurangan {angka1} - {angka2} = {kurang(angka1, angka2)}\")\n",
    "print(f\"Perkalian {angka1} * {angka2} = {kali(angka1, angka2)}\")\n",
    "print(f\"Pembagian {angka1} / {angka2} = {bagi(angka1, angka2)}\")\n",
    "\n",
    "# Contoh kasus pembagian oleh nol\n",
    "angka3 = 7\n",
    "angka4 = 0\n",
    "print(f\"Pembagian {angka3} / {angka4} = {bagi(angka3, angka4)}\")"
   ]
  }
 ],
 "metadata": {
  "language_info": {
   "name": "python"
  }
 },
 "nbformat": 4,
 "nbformat_minor": 5
}
